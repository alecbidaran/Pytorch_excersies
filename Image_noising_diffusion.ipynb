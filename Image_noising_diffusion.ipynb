{
  "nbformat": 4,
  "nbformat_minor": 0,
  "metadata": {
    "colab": {
      "provenance": [],
      "authorship_tag": "ABX9TyOl9Vd3fV51BHVm2rVkwsTE",
      "include_colab_link": true
    },
    "kernelspec": {
      "name": "python3",
      "display_name": "Python 3"
    },
    "language_info": {
      "name": "python"
    },
    "accelerator": "GPU",
    "gpuClass": "standard"
  },
  "cells": [
    {
      "cell_type": "markdown",
      "metadata": {
        "id": "view-in-github",
        "colab_type": "text"
      },
      "source": [
        "<a href=\"https://colab.research.google.com/github/alecbidaran/Pytorch_excersies/blob/main/Image_noising_diffusion.ipynb\" target=\"_parent\"><img src=\"https://colab.research.google.com/assets/colab-badge.svg\" alt=\"Open In Colab\"/></a>"
      ]
    },
    {
      "cell_type": "code",
      "execution_count": null,
      "metadata": {
        "id": "zlO7a_OXJKib"
      },
      "outputs": [],
      "source": [
        "import matplotlib.pyplot as plt\n",
        "import numpy as np \n",
        "from sklearn.datasets import make_swiss_roll\n",
        "import torch \n",
        "import torch.nn as nn\n",
        "import torch.optim as optim"
      ]
    },
    {
      "cell_type": "code",
      "source": [
        "def make_beta_schedule(schedule='linear', n_timesteps=10000, start=1e-5, end=1e-3):\n",
        "    if schedule == 'linear':\n",
        "        betas = torch.linspace(start, end, n_timesteps).cuda()\n",
        "    elif schedule == \"quad\":\n",
        "        betas = torch.linspace(start ** 0.5, end ** 0.5, n_timesteps).cuda() ** 2\n",
        "    elif schedule == \"sigmoid\":\n",
        "        betas = torch.linspace(-6, 6, n_timesteps).cuda()\n",
        "        betas = torch.sigmoid(betas) * (end - start) + start\n",
        "    return betas\n",
        "\n",
        "n_steps=100"
      ],
      "metadata": {
        "id": "_mMPQsL2Jh94"
      },
      "execution_count": null,
      "outputs": []
    },
    {
      "cell_type": "code",
      "source": [
        "betas = make_beta_schedule(schedule='sigmoid', n_timesteps=n_steps, start=1e-3, end=1e-1)\n",
        "alphas = 1 - betas\n",
        "alphas_prod = torch.cumprod(alphas, 0).cuda()\n",
        "alphas_prod_p = torch.cat([torch.tensor([1]).float().cuda(), alphas_prod[:-1]], 0).cuda()\n",
        "alphas_bar_sqrt = torch.sqrt(alphas_prod).cuda()\n",
        "one_minus_alphas_bar_log = torch.log(1 - alphas_prod)\n",
        "one_minus_alphas_bar_sqrt = torch.sqrt(1 - alphas_prod)\n",
        "alphas_bar_sqrt"
      ],
      "metadata": {
        "id": "x8404QiGJnkx",
        "colab": {
          "base_uri": "https://localhost:8080/"
        },
        "outputId": "1e819dd3-0c62-4f75-a59d-b7b98443e667"
      },
      "execution_count": null,
      "outputs": [
        {
          "output_type": "execute_result",
          "data": {
            "text/plain": [
              "tensor([0.9994, 0.9987, 0.9981, 0.9974, 0.9967, 0.9960, 0.9952, 0.9945, 0.9936,\n",
              "        0.9928, 0.9919, 0.9909, 0.9899, 0.9888, 0.9877, 0.9865, 0.9851, 0.9837,\n",
              "        0.9822, 0.9805, 0.9787, 0.9767, 0.9746, 0.9722, 0.9696, 0.9668, 0.9637,\n",
              "        0.9603, 0.9565, 0.9524, 0.9478, 0.9428, 0.9374, 0.9313, 0.9247, 0.9175,\n",
              "        0.9096, 0.9010, 0.8917, 0.8815, 0.8705, 0.8587, 0.8459, 0.8323, 0.8178,\n",
              "        0.8024, 0.7861, 0.7690, 0.7511, 0.7325, 0.7132, 0.6933, 0.6729, 0.6521,\n",
              "        0.6310, 0.6097, 0.5883, 0.5668, 0.5455, 0.5243, 0.5033, 0.4827, 0.4624,\n",
              "        0.4426, 0.4233, 0.4045, 0.3862, 0.3685, 0.3515, 0.3350, 0.3192, 0.3039,\n",
              "        0.2893, 0.2753, 0.2619, 0.2490, 0.2367, 0.2250, 0.2138, 0.2032, 0.1930,\n",
              "        0.1833, 0.1741, 0.1653, 0.1569, 0.1490, 0.1414, 0.1343, 0.1274, 0.1210,\n",
              "        0.1148, 0.1089, 0.1034, 0.0981, 0.0931, 0.0883, 0.0838, 0.0795, 0.0755,\n",
              "        0.0716], device='cuda:0')"
            ]
          },
          "metadata": {},
          "execution_count": 228
        }
      ]
    },
    {
      "cell_type": "code",
      "source": [
        "def extract(input, t, x):\n",
        "    shape = x.shape\n",
        "    out = torch.gather(input, 0, t.to(input.device))\n",
        "    reshape = [t.shape[0]] + [1] * (len(shape) - 1)\n",
        "    return out.reshape(*reshape).cuda()"
      ],
      "metadata": {
        "id": "OrE4a20hJpu3"
      },
      "execution_count": null,
      "outputs": []
    },
    {
      "cell_type": "code",
      "source": [
        "def q_sample(x_0, t, noise=None):\n",
        "    if noise is None:\n",
        "        noise=torch.rand_like(x_0).cuda()\n",
        "    alpha_t=extract(alphas_bar_sqrt,t,x_0)\n",
        "    alpha_1mt=extract(one_minus_alphas_bar_sqrt,t,x_0)\n",
        "    return (alpha_t*x_0+alpha_1mt*noise)"
      ],
      "metadata": {
        "id": "x1EjSkUoJyxo"
      },
      "execution_count": null,
      "outputs": []
    },
    {
      "cell_type": "code",
      "source": [
        "from torchvision.datasets import CIFAR10\n",
        "from torchvision import transforms"
      ],
      "metadata": {
        "id": "cdsR-ek7LGvC"
      },
      "execution_count": null,
      "outputs": []
    },
    {
      "cell_type": "code",
      "source": [
        "dataset=CIFAR10(root='/',train=True,download=True,transform=transforms.ToTensor())"
      ],
      "metadata": {
        "colab": {
          "base_uri": "https://localhost:8080/"
        },
        "id": "VLQwO2hULSSI",
        "outputId": "ceddc573-0c80-4f79-9e6a-7c7e239e0be3"
      },
      "execution_count": null,
      "outputs": [
        {
          "output_type": "stream",
          "name": "stdout",
          "text": [
            "Files already downloaded and verified\n"
          ]
        }
      ]
    },
    {
      "cell_type": "code",
      "source": [
        "img,_=dataset[-1]\n",
        "plt.imshow(img.permute(1,2,0))"
      ],
      "metadata": {
        "colab": {
          "base_uri": "https://localhost:8080/",
          "height": 284
        },
        "id": "GWmhM1fXLheu",
        "outputId": "01643bf6-91c4-44c9-96d2-a913ae2a9147"
      },
      "execution_count": null,
      "outputs": [
        {
          "output_type": "execute_result",
          "data": {
            "text/plain": [
              "<matplotlib.image.AxesImage at 0x7efe61d255e0>"
            ]
          },
          "metadata": {},
          "execution_count": 233
        },
        {
          "output_type": "display_data",
          "data": {
            "text/plain": [
              "<Figure size 432x288 with 1 Axes>"
            ],
            "image/png": "[encoded data removed]"
          },
          "metadata": {
            "needs_background": "light"
          }
        }
      ]
    },
    {
      "cell_type": "code",
      "source": [
        "t=torch.tensor([1*10]).cuda()\n",
        "reshape = [t.shape[0]] + [1] * (len(img.shape) - 1)\n",
        "torch.gather(alphas_bar_sqrt,0,t)\n"
      ],
      "metadata": {
        "colab": {
          "base_uri": "https://localhost:8080/"
        },
        "id": "r4T33LO_Qi-a",
        "outputId": "27f07257-4921-4a9a-d7bd-698d2fc735d4"
      },
      "execution_count": null,
      "outputs": [
        {
          "output_type": "execute_result",
          "data": {
            "text/plain": [
              "tensor([0.9919], device='cuda:0')"
            ]
          },
          "metadata": {},
          "execution_count": 234
        }
      ]
    },
    {
      "cell_type": "code",
      "source": [
        "fig, axs = plt.subplots(1, 10, figsize=(28, 3))\n",
        "for i in range(10):\n",
        "  q_i=q_sample(img.cuda(),torch.tensor([i*10]).cuda())\n",
        "  axs[i].imshow(q_i.permute(1,2,0).cpu());\n",
        "  axs[i].set_axis_off(); axs[i].set_title('$q(\\mathbf{x}_{'+str(i*10)+'})$')"
      ],
      "metadata": {
        "colab": {
          "base_uri": "https://localhost:8080/",
          "height": 346
        },
        "id": "4HDAF6iuLlku",
        "outputId": "853f34c7-e66e-4b83-9462-af761b53b862"
      },
      "execution_count": null,
      "outputs": [
        {
          "output_type": "stream",
          "name": "stderr",
          "text": [
            "WARNING:matplotlib.image:Clipping input data to the valid range for imshow with RGB data ([0..1] for floats or [0..255] for integers).\n",
            "WARNING:matplotlib.image:Clipping input data to the valid range for imshow with RGB data ([0..1] for floats or [0..255] for integers).\n",
            "WARNING:matplotlib.image:Clipping input data to the valid range for imshow with RGB data ([0..1] for floats or [0..255] for integers).\n",
            "WARNING:matplotlib.image:Clipping input data to the valid range for imshow with RGB data ([0..1] for floats or [0..255] for integers).\n",
            "WARNING:matplotlib.image:Clipping input data to the valid range for imshow with RGB data ([0..1] for floats or [0..255] for integers).\n",
            "WARNING:matplotlib.image:Clipping input data to the valid range for imshow with RGB data ([0..1] for floats or [0..255] for integers).\n",
            "WARNING:matplotlib.image:Clipping input data to the valid range for imshow with RGB data ([0..1] for floats or [0..255] for integers).\n",
            "WARNING:matplotlib.image:Clipping input data to the valid range for imshow with RGB data ([0..1] for floats or [0..255] for integers).\n",
            "WARNING:matplotlib.image:Clipping input data to the valid range for imshow with RGB data ([0..1] for floats or [0..255] for integers).\n",
            "WARNING:matplotlib.image:Clipping input data to the valid range for imshow with RGB data ([0..1] for floats or [0..255] for integers).\n"
          ]
        },
        {
          "output_type": "display_data",
          "data": {
            "text/plain": [
              "<Figure size 2016x216 with 10 Axes>"
            ],
            "image/png": "[encoded data removed]"
          },
          "metadata": {
            "needs_background": "light"
          }
        }
      ]
    },
    {
      "cell_type": "code",
      "source": [
        "posterior_mean_coef_1 = (betas * torch.sqrt(alphas_prod_p) / (1 - alphas_prod))\n",
        "posterior_mean_coef_2 = ((1 - alphas_prod_p) * torch.sqrt(alphas) / (1 - alphas_prod))\n",
        "posterior_variance = betas * (1 - alphas_prod_p) / (1 - alphas_prod)\n",
        "posterior_log_variance_clipped = torch.log(torch.cat((posterior_variance[1].view(1, 1), posterior_variance[1:].view(-1, 1)), 0)).view(-1)\n",
        "\n",
        "def q_posterior_mean_variance(x_0, x_t, t):\n",
        "    coef_1 = extract(posterior_mean_coef_1, t, x_0)\n",
        "    coef_2 = extract(posterior_mean_coef_2, t, x_0)\n",
        "    mean = coef_1 * x_0 + coef_2 * x_t\n",
        "    var = extract(posterior_log_variance_clipped, t, x_0)\n",
        "    return mean, var"
      ],
      "metadata": {
        "id": "DtrbJMZEL7D3"
      },
      "execution_count": null,
      "outputs": []
    },
    {
      "cell_type": "code",
      "source": [],
      "metadata": {
        "id": "gNnx2DJ0ZdYP"
      },
      "execution_count": null,
      "outputs": []
    },
    {
      "cell_type": "code",
      "source": [
        "import torch.nn.functional as F\n",
        "class ConditionalLinear(nn.Module):\n",
        "    def __init__(self, num_in, num_out, n_steps):\n",
        "        super(ConditionalLinear, self).__init__()\n",
        "        self.num_out = num_out\n",
        "        self.lin = nn.Linear(num_in, num_out)\n",
        "        self.embed = nn.Embedding(n_steps, num_out)\n",
        "        self.embed.weight.data.uniform_()\n",
        "\n",
        "    def forward(self, x, y):\n",
        "        out = self.lin(x)\n",
        "        gamma = self.embed(y)\n",
        "        out = gamma.view(-1, self.num_out) * out\n",
        "        return out"
      ],
      "metadata": {
        "id": "LKZKGP2LRK3R"
      },
      "execution_count": null,
      "outputs": []
    },
    {
      "cell_type": "code",
      "source": [
        "class Noise_model(nn.Module):\n",
        "  def __init__(self,n_steps):\n",
        "    super(Noise_model,self).__init__()\n",
        "    self.conv=nn.Sequential(nn.Conv2d(3,32,kernel_size=(3,3),stride=2,padding=1),\n",
        "                            nn.BatchNorm2d(32),\n",
        "                            nn.ReLU(inplace=True),\n",
        "                            nn.Conv2d(32,64,kernel_size=(3,3),stride=2,padding=1),\n",
        "                            nn.BatchNorm2d(64),\n",
        "                            nn.ReLU(inplace=True),\n",
        "                            nn.Conv2d(64,128,kernel_size=(3,3),stride=2,padding=1),\n",
        "                            nn.BatchNorm2d(128),\n",
        "                            nn.ReLU(inplace=True),\n",
        "                            nn.Conv2d(128,256,kernel_size=(3,3),stride=2,padding=1),\n",
        "                            nn.BatchNorm2d(256),\n",
        "                            nn.ReLU(inplace=True),)\n",
        "  \n",
        "    self.flatten=nn.Flatten()\n",
        "    self.l1=ConditionalLinear(1024,1024,n_steps)\n",
        "    self.l2=ConditionalLinear(1024,1024,n_steps)\n",
        "    self.mean=torch.nn.Linear(1024,1024*3)\n",
        "    self.var=torch.nn.Linear(1024,1)\n",
        "  def forward(self,x,y):\n",
        "    x=self.conv(x)\n",
        "    x=self.flatten(x)\n",
        "    x=self.l1(x,y)\n",
        "    x=self.l2(x,y)\n",
        "    mean=self.mean(x).reshape(-1,3,32,32)\n",
        "    var=self.var(x).reshape(-1,1,1,1)\n",
        "    return mean,var\n"
      ],
      "metadata": {
        "id": "6g7n1veQRuN3"
      },
      "execution_count": null,
      "outputs": []
    },
    {
      "cell_type": "code",
      "source": [
        "def p_mean_variance(model, x, t):\n",
        "    model.train()\n",
        "    # Go through model\n",
        "    out = model(x.clone().detach(),t)\n",
        "    # Extract the mean and variance\n",
        "    mean, log_var = out\n",
        "    var = torch.exp(log_var)\n",
        "    return mean, log_var"
      ],
      "metadata": {
        "id": "RSvEG2HRVOzO"
      },
      "execution_count": null,
      "outputs": []
    },
    {
      "cell_type": "code",
      "source": [
        "t = torch.randint(0, n_steps, size=(128 // 2 + 1,)).cuda()\n",
        "t = torch.cat([t, n_steps - t - 1], dim=0)[:128].long().cuda()\n",
        "mean,var=p_mean_variance(model,torch.tensor(img[None]).cuda(),t)\n",
        "var.shape\n",
        "x_t=q_sample(batch_x,t)\n",
        "mean,var=q_posterior_mean_variance(batch_x,x_t,t)\n"
      ],
      "metadata": {
        "id": "fg9T---RXwO_",
        "colab": {
          "base_uri": "https://localhost:8080/",
          "height": 372
        },
        "outputId": "435bb067-ccf0-44c3-b69d-557dcfee03cf"
      },
      "execution_count": null,
      "outputs": [
        {
          "output_type": "stream",
          "name": "stderr",
          "text": [
            "<ipython-input-240-a8694a808780>:3: UserWarning: To copy construct from a tensor, it is recommended to use sourceTensor.clone().detach() or sourceTensor.clone().detach().requires_grad_(True), rather than torch.tensor(sourceTensor).\n",
            "  mean,var=p_mean_variance(model,torch.tensor(img[None]).cuda(),t)\n"
          ]
        },
        {
          "output_type": "error",
          "ename": "RuntimeError",
          "evalue": "ignored",
          "traceback": [
            "\u001b[0;31m---------------------------------------------------------------------------\u001b[0m",
            "\u001b[0;31mRuntimeError\u001b[0m                              Traceback (most recent call last)",
            "\u001b[0;32m<ipython-input-240-a8694a808780>\u001b[0m in \u001b[0;36m<module>\u001b[0;34m\u001b[0m\n\u001b[1;32m      3\u001b[0m \u001b[0mmean\u001b[0m\u001b[0;34m,\u001b[0m\u001b[0mvar\u001b[0m\u001b[0;34m=\u001b[0m\u001b[0mp_mean_variance\u001b[0m\u001b[0;34m(\u001b[0m\u001b[0mmodel\u001b[0m\u001b[0;34m,\u001b[0m\u001b[0mtorch\u001b[0m\u001b[0;34m.\u001b[0m\u001b[0mtensor\u001b[0m\u001b[0;34m(\u001b[0m\u001b[0mimg\u001b[0m\u001b[0;34m[\u001b[0m\u001b[0;32mNone\u001b[0m\u001b[0;34m]\u001b[0m\u001b[0;34m)\u001b[0m\u001b[0;34m.\u001b[0m\u001b[0mcuda\u001b[0m\u001b[0;34m(\u001b[0m\u001b[0;34m)\u001b[0m\u001b[0;34m,\u001b[0m\u001b[0mt\u001b[0m\u001b[0;34m)\u001b[0m\u001b[0;34m\u001b[0m\u001b[0;34m\u001b[0m\u001b[0m\n\u001b[1;32m      4\u001b[0m \u001b[0mvar\u001b[0m\u001b[0;34m.\u001b[0m\u001b[0mshape\u001b[0m\u001b[0;34m\u001b[0m\u001b[0;34m\u001b[0m\u001b[0m\n\u001b[0;32m----> 5\u001b[0;31m \u001b[0mx_t\u001b[0m\u001b[0;34m=\u001b[0m\u001b[0mq_sample\u001b[0m\u001b[0;34m(\u001b[0m\u001b[0mbatch_x\u001b[0m\u001b[0;34m,\u001b[0m\u001b[0mt\u001b[0m\u001b[0;34m)\u001b[0m\u001b[0;34m\u001b[0m\u001b[0;34m\u001b[0m\u001b[0m\n\u001b[0m\u001b[1;32m      6\u001b[0m \u001b[0mmean\u001b[0m\u001b[0;34m,\u001b[0m\u001b[0mvar\u001b[0m\u001b[0;34m=\u001b[0m\u001b[0mq_posterior_mean_variance\u001b[0m\u001b[0;34m(\u001b[0m\u001b[0mbatch_x\u001b[0m\u001b[0;34m,\u001b[0m\u001b[0mx_t\u001b[0m\u001b[0;34m,\u001b[0m\u001b[0mt\u001b[0m\u001b[0;34m)\u001b[0m\u001b[0;34m\u001b[0m\u001b[0;34m\u001b[0m\u001b[0m\n",
            "\u001b[0;32m<ipython-input-230-53302804d851>\u001b[0m in \u001b[0;36mq_sample\u001b[0;34m(x_0, t, noise)\u001b[0m\n\u001b[1;32m      4\u001b[0m     \u001b[0malpha_t\u001b[0m\u001b[0;34m=\u001b[0m\u001b[0mextract\u001b[0m\u001b[0;34m(\u001b[0m\u001b[0malphas_bar_sqrt\u001b[0m\u001b[0;34m,\u001b[0m\u001b[0mt\u001b[0m\u001b[0;34m,\u001b[0m\u001b[0mx_0\u001b[0m\u001b[0;34m)\u001b[0m\u001b[0;34m\u001b[0m\u001b[0;34m\u001b[0m\u001b[0m\n\u001b[1;32m      5\u001b[0m     \u001b[0malpha_1mt\u001b[0m\u001b[0;34m=\u001b[0m\u001b[0mextract\u001b[0m\u001b[0;34m(\u001b[0m\u001b[0mone_minus_alphas_bar_sqrt\u001b[0m\u001b[0;34m,\u001b[0m\u001b[0mt\u001b[0m\u001b[0;34m,\u001b[0m\u001b[0mx_0\u001b[0m\u001b[0;34m)\u001b[0m\u001b[0;34m\u001b[0m\u001b[0;34m\u001b[0m\u001b[0m\n\u001b[0;32m----> 6\u001b[0;31m     \u001b[0;32mreturn\u001b[0m \u001b[0;34m(\u001b[0m\u001b[0malpha_t\u001b[0m\u001b[0;34m*\u001b[0m\u001b[0mx_0\u001b[0m\u001b[0;34m+\u001b[0m\u001b[0malpha_1mt\u001b[0m\u001b[0;34m*\u001b[0m\u001b[0mnoise\u001b[0m\u001b[0;34m)\u001b[0m\u001b[0;34m\u001b[0m\u001b[0;34m\u001b[0m\u001b[0m\n\u001b[0m",
            "\u001b[0;31mRuntimeError\u001b[0m: The size of tensor a (128) must match the size of tensor b (16) at non-singleton dimension 0"
          ]
        }
      ]
    },
    {
      "cell_type": "code",
      "source": [
        "from torchsummary import summary\n",
        "model=Noise_model(100).cuda()"
      ],
      "metadata": {
        "id": "N7tE9ZYYTwXy"
      },
      "execution_count": null,
      "outputs": []
    },
    {
      "cell_type": "code",
      "source": [
        "def p_sample(model,x,t):\n",
        "  t=torch.tensor([t]).cuda()\n",
        "  alpha=extract(alphas,t,x)\n",
        "  alpha=alpha.cuda()\n",
        "  one_min_alpha_sqrt=extract(one_minus_alphas_bar_sqrt,t,x)\n",
        "  epsilon=(1.-alpha)/(one_min_alpha_sqrt.cuda())\n",
        "  eptheta,_=model(x,t)\n",
        "  mean=(1./alpha.sqrt())*(x-epsilon*eptheta)\n",
        "  z=torch.rand_like(x).cuda()\n",
        "  sigma_t=extract(betas,t,x)\n",
        "  p=mean+sigma_t*z\n",
        "  return (p) "
      ],
      "metadata": {
        "id": "yQ5IiRPXQkq7"
      },
      "execution_count": null,
      "outputs": []
    },
    {
      "cell_type": "code",
      "source": [
        "def p_sample_loop(model, shape):\n",
        "    cur_x = torch.randn(shape).cuda()\n",
        "    x_seq = [cur_x]\n",
        "    for i in reversed(range(n_steps)):\n",
        "        cur_x = p_sample(model, cur_x, i)\n",
        "        x_seq.append(cur_x)\n",
        "    return x_seq"
      ],
      "metadata": {
        "id": "P25rWUrjJVhZ"
      },
      "execution_count": null,
      "outputs": []
    },
    {
      "cell_type": "code",
      "source": [
        "def normal_kl(mean1, logvar1, mean2, logvar2):\n",
        "    kl = 0.5 * (-1.0 + logvar2 - logvar1 + torch.exp(logvar1 - logvar2) + ((mean1 - mean2) ** 2) * torch.exp(-logvar2))\n",
        "    return kl\n",
        "\n",
        "def entropy(val):\n",
        "    return (0.5*(torch.tensor(1+np.log(2*np.pi))).cuda())+ 0.5 * torch.log(val).cuda()"
      ],
      "metadata": {
        "id": "utcXe6KiTX5I"
      },
      "execution_count": null,
      "outputs": []
    },
    {
      "cell_type": "code",
      "source": [
        "def compute_loss(true_mean, true_var, model_mean, model_var):\n",
        "    # the KL divergence between model transition and posterior from data\n",
        "    KL = normal_kl(true_mean, true_var, model_mean, model_var).float().cuda()\n",
        "    # conditional entropies H_q(x^T|x^0) and H_q(x^1|x^0)\n",
        "    H_start = entropy(betas[0].float()).float()\n",
        "    beta_full_trajectory = 1. - torch.exp(torch.sum(torch.log(alphas))).float().cuda()\n",
        "    H_end = entropy(beta_full_trajectory.float()).float()\n",
        "    H_prior = entropy(torch.tensor([1.])).float()\n",
        "    negL_bound = KL * n_steps + H_start.cuda() - H_end.cuda() + H_prior.cuda()\n",
        "    # the negL_bound if this was an isotropic Gaussian model of the data\n",
        "    negL_gauss = entropy(torch.tensor([1.])).float()\n",
        "    negL_diff = negL_bound - negL_gauss.cuda()\n",
        "    L_diff_bits = negL_diff / np.log(2.)\n",
        "    L_diff_bits_avg = L_diff_bits.mean()\n",
        "    return L_diff_bits_avg"
      ],
      "metadata": {
        "id": "dQm3335QTZqH"
      },
      "execution_count": null,
      "outputs": []
    },
    {
      "cell_type": "code",
      "source": [
        "def loss_likelihood_bound(model, x_0):\n",
        "    batch_size = x_0.shape[0]\n",
        "    # Select a random step for each example\n",
        "    t = torch.randint(0, n_steps, size=(batch_size // 2 + 1,)).cuda()\n",
        "    t = torch.cat([t, n_steps - t - 1], dim=0,)[:batch_size].long().cuda()\n",
        "    # Perform diffusion for step t\n",
        "    x_t = q_sample(x_0, t)\n",
        "    # Compute the true mean and variance\n",
        "    true_mean, true_var = q_posterior_mean_variance(x_0, x_t, t)\n",
        "    # Infer the mean and variance with our model\n",
        "    model_mean, model_var = p_mean_variance(model, x_t, t)\n",
        "    # Compute the loss\n",
        "    return compute_loss(true_mean, true_var, model_mean, model_var)"
      ],
      "metadata": {
        "id": "ZaAYzqbwTbZv"
      },
      "execution_count": null,
      "outputs": []
    },
    {
      "cell_type": "code",
      "source": [
        "model = Noise_model(n_steps=100).cuda()\n",
        "optimizer = optim.Adam(model.parameters(), lr=1e-3)\n",
        "#dataset = torch.tensor(data.T).float()\n",
        "batch_size = 128\n",
        "for t in range(5001):\n",
        "    # X is a torch Variable\n",
        "    permutation = torch.randperm(1000).cuda()\n",
        "    for i in range(0, 1000, batch_size):\n",
        "        # Retrieve current batch\n",
        "        indices = permutation[i:i+batch_size]\n",
        "        batch_x= torch.cat([dataset[indice][0][None] for indice in indices],axis=0).cuda()\n",
        "        # Compute the loss.\n",
        "        loss = loss_likelihood_bound(model, batch_x)\n",
        "        # Before the backward pass, zero all of the network gradients\n",
        "        optimizer.zero_grad()\n",
        "        # Backward pass: compute gradient of the loss with respect to parameters\n",
        "        loss.backward()\n",
        "        # Perform gradient clipping\n",
        "        torch.nn.utils.clip_grad_norm_(model.parameters(), 1.)\n",
        "        # Calling the step function to update the parameters\n",
        "        optimizer.step()\n",
        "    # Print loss\n",
        "    if (t % 1000 == 0):\n",
        "        print(loss.detach().item())\n",
        "        x_seq = p_sample_loop(model,img[None].shape)\n",
        "        fig, axs = plt.subplots(1, 10, figsize=(28, 3))\n",
        "        for i in range(10):\n",
        "            cur_x = x_seq[i * 10].detach().cpu()\n",
        "            axs[i].imshow(q_i.permute(1,2,0).cpu());\n",
        "            axs[i].set_axis_off(); axs[i].set_title('$q(\\mathbf{x}_{'+str(i*10)+'})$')\n",
        "        plt.show()"
      ],
      "metadata": {
        "colab": {
          "base_uri": "https://localhost:8080/",
          "height": 364
        },
        "id": "k55SMiTfTd6K",
        "outputId": "d8fdf96e-f8e5-44a0-a5fd-28866c4bcad8"
      },
      "execution_count": null,
      "outputs": [
        {
          "output_type": "stream",
          "name": "stdout",
          "text": [
            "251.97703552246094\n"
          ]
        },
        {
          "output_type": "stream",
          "name": "stderr",
          "text": [
            "WARNING:matplotlib.image:Clipping input data to the valid range for imshow with RGB data ([0..1] for floats or [0..255] for integers).\n",
            "WARNING:matplotlib.image:Clipping input data to the valid range for imshow with RGB data ([0..1] for floats or [0..255] for integers).\n",
            "WARNING:matplotlib.image:Clipping input data to the valid range for imshow with RGB data ([0..1] for floats or [0..255] for integers).\n",
            "WARNING:matplotlib.image:Clipping input data to the valid range for imshow with RGB data ([0..1] for floats or [0..255] for integers).\n",
            "WARNING:matplotlib.image:Clipping input data to the valid range for imshow with RGB data ([0..1] for floats or [0..255] for integers).\n",
            "WARNING:matplotlib.image:Clipping input data to the valid range for imshow with RGB data ([0..1] for floats or [0..255] for integers).\n",
            "WARNING:matplotlib.image:Clipping input data to the valid range for imshow with RGB data ([0..1] for floats or [0..255] for integers).\n",
            "WARNING:matplotlib.image:Clipping input data to the valid range for imshow with RGB data ([0..1] for floats or [0..255] for integers).\n",
            "WARNING:matplotlib.image:Clipping input data to the valid range for imshow with RGB data ([0..1] for floats or [0..255] for integers).\n",
            "WARNING:matplotlib.image:Clipping input data to the valid range for imshow with RGB data ([0..1] for floats or [0..255] for integers).\n"
          ]
        },
        {
          "output_type": "display_data",
          "data": {
            "text/plain": [
              "<Figure size 2016x216 with 10 Axes>"
            ],
            "image/png": "[encoded data removed]"
          },
          "metadata": {
            "needs_background": "light"
          }
        }
      ]
    },
    {
      "cell_type": "code",
      "source": [
        "len(dataset)"
      ],
      "metadata": {
        "colab": {
          "base_uri": "https://localhost:8080/"
        },
        "id": "kcfMxWsflNpY",
        "outputId": "9e041d7a-f551-4314-8d76-086d82f32002"
      },
      "execution_count": null,
      "outputs": [
        {
          "output_type": "execute_result",
          "data": {
            "text/plain": [
              "50000"
            ]
          },
          "metadata": {},
          "execution_count": 216
        }
      ]
    },
    {
      "cell_type": "code",
      "source": [],
      "metadata": {
        "id": "oEfeqG_tyl8a"
      },
      "execution_count": null,
      "outputs": []
    }
  ]
}