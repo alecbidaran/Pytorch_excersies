{
  "nbformat": 4,
  "nbformat_minor": 0,
  "metadata": {
    "colab": {
      "name": "torch_knowledge_distilation.ipynb",
      "provenance": [],
      "collapsed_sections": [],
      "toc_visible": true,
      "authorship_tag": "ABX9TyNPnSkX0Fgqy1DFjyRnksVo",
      "include_colab_link": true
    },
    "kernelspec": {
      "name": "python3",
      "display_name": "Python 3"
    },
    "language_info": {
      "name": "python"
    },
    "accelerator": "GPU"
  },
  "cells": [
    {
      "cell_type": "markdown",
      "metadata": {
        "id": "view-in-github",
        "colab_type": "text"
      },
      "source": [
        "<a href=\"https://colab.research.google.com/github/alecbidaran/Pytorch_excersies/blob/main/torch_knowledge_distilation.ipynb\" target=\"_parent\"><img src=\"https://colab.research.google.com/assets/colab-badge.svg\" alt=\"Open In Colab\"/></a>"
      ]
    },
    {
      "cell_type": "code",
      "execution_count": null,
      "metadata": {
        "colab": {
          "base_uri": "https://localhost:8080/"
        },
        "id": "Q7zzkq-LCJor",
        "outputId": "ef64fb95-633b-4942-f1bf-4faacc20ea78"
      },
      "outputs": [
        {
          "output_type": "stream",
          "name": "stdout",
          "text": [
            "\u001b[K     |████████████████████████████████| 41 kB 366 kB/s \n",
            "\u001b[K     |████████████████████████████████| 10.9 MB 8.9 MB/s \n",
            "\u001b[K     |████████████████████████████████| 216 kB 59.4 MB/s \n",
            "\u001b[K     |████████████████████████████████| 58 kB 7.3 MB/s \n",
            "\u001b[K     |████████████████████████████████| 56 kB 6.0 MB/s \n",
            "\u001b[K     |████████████████████████████████| 51 kB 8.3 MB/s \n",
            "\u001b[?25h"
          ]
        }
      ],
      "source": [
        "!pip install -q torch_snippets pytorch_model_summary\n"
      ]
    },
    {
      "cell_type": "code",
      "source": [
        "from torch_snippets import *\n",
        "from torchvision import transforms,datasets\n",
        "from sklearn.model_selection import train_test_split\n",
        "device = 'cuda' \n",
        "import cv2\n",
        "import matplotlib.pyplot as plt \n",
        "import glob\n",
        "import torch.nn.functional as F"
      ],
      "metadata": {
        "id": "icScvpDhCl3B"
      },
      "execution_count": null,
      "outputs": []
    },
    {
      "cell_type": "code",
      "source": [
        "class Teacher_network(nn.Module): \n",
        "  def __init__(self,in_channels=1,num_class=10):\n",
        "    super(Teacher_network,self).__init__()\n",
        "    self.num_class=num_class\n",
        "    self.in_channels=in_channels\n",
        "    model=[nn.Conv2d(self.in_channels,64,3,stride=1,padding=1),nn.InstanceNorm2d(64),nn.ReLU(),nn.MaxPool2d(2,2)]\n",
        "    model+=[nn.Conv2d(64,128,3,stride=1,padding=1),nn.InstanceNorm2d(64),nn.ReLU(),nn.MaxPool2d(2,2)]\n",
        "    self.model=nn.Sequential(*model)\n",
        "    self.flatten=nn.Flatten()\n",
        "    self.fc=nn.Linear(128*7*7,10)\n",
        "  def forward(self,x):\n",
        "    x=self.model(x)\n",
        "    f=self.flatten(x)\n",
        "    y=self.fc(f)\n",
        "    return y\n",
        "class student_network(nn.Module): \n",
        "  def __init__(self,in_channels=1,num_class=10):\n",
        "    super(student_network,self).__init__()\n",
        "    self.num_class=num_class\n",
        "    self.in_channels=in_channels\n",
        "    model=[nn.Conv2d(self.in_channels,8,3,stride=1,padding=1),nn.InstanceNorm2d(8),nn.ReLU(),nn.MaxPool2d(2,2)]\n",
        "    model+=[nn.Conv2d(8,64,3,stride=1,padding=1),nn.InstanceNorm2d(64),nn.ReLU(),nn.MaxPool2d(2,2)]\n",
        "    self.model=nn.Sequential(*model)\n",
        "    self.flatten=nn.Flatten()\n",
        "    self.fc=nn.Linear(64*7*7,10)\n",
        "  def forward(self,x):\n",
        "    x=self.model(x)\n",
        "    f=self.flatten(x)\n",
        "    y=self.fc(f)\n",
        "    return y"
      ],
      "metadata": {
        "id": "lXnxtE1RDMRA"
      },
      "execution_count": null,
      "outputs": []
    },
    {
      "cell_type": "code",
      "source": [
        "teacher=Teacher_network(1,10).to(device)\n"
      ],
      "metadata": {
        "id": "LocQo7b_EtsX"
      },
      "execution_count": null,
      "outputs": []
    },
    {
      "cell_type": "code",
      "source": [
        "from torchsummary import summary"
      ],
      "metadata": {
        "id": "1bILUomxEzxY"
      },
      "execution_count": null,
      "outputs": []
    },
    {
      "cell_type": "code",
      "source": [
        "summary(teacher,(1,28,28))\n",
        "summary(student,(1,28,28))"
      ],
      "metadata": {
        "colab": {
          "base_uri": "https://localhost:8080/"
        },
        "id": "WQGASJGZE5xk",
        "outputId": "15f57048-e3af-4f24-c967-e2adb3d9881c"
      },
      "execution_count": null,
      "outputs": [
        {
          "output_type": "stream",
          "name": "stdout",
          "text": [
            "----------------------------------------------------------------\n",
            "        Layer (type)               Output Shape         Param #\n",
            "================================================================\n",
            "            Conv2d-1           [-1, 64, 28, 28]             640\n",
            "    InstanceNorm2d-2           [-1, 64, 28, 28]               0\n",
            "              ReLU-3           [-1, 64, 28, 28]               0\n",
            "         MaxPool2d-4           [-1, 64, 14, 14]               0\n",
            "            Conv2d-5          [-1, 128, 14, 14]          73,856\n",
            "    InstanceNorm2d-6          [-1, 128, 14, 14]               0\n",
            "              ReLU-7          [-1, 128, 14, 14]               0\n",
            "         MaxPool2d-8            [-1, 128, 7, 7]               0\n",
            "           Flatten-9                 [-1, 6272]               0\n",
            "           Linear-10                   [-1, 10]          62,730\n",
            "================================================================\n",
            "Total params: 137,226\n",
            "Trainable params: 137,226\n",
            "Non-trainable params: 0\n",
            "----------------------------------------------------------------\n",
            "Input size (MB): 0.00\n",
            "Forward/backward pass size (MB): 1.91\n",
            "Params size (MB): 0.52\n",
            "Estimated Total Size (MB): 2.44\n",
            "----------------------------------------------------------------\n",
            "----------------------------------------------------------------\n",
            "        Layer (type)               Output Shape         Param #\n",
            "================================================================\n",
            "            Conv2d-1            [-1, 8, 28, 28]              80\n",
            "    InstanceNorm2d-2            [-1, 8, 28, 28]               0\n",
            "              ReLU-3            [-1, 8, 28, 28]               0\n",
            "         MaxPool2d-4            [-1, 8, 14, 14]               0\n",
            "            Conv2d-5           [-1, 64, 14, 14]           4,672\n",
            "    InstanceNorm2d-6           [-1, 64, 14, 14]               0\n",
            "              ReLU-7           [-1, 64, 14, 14]               0\n",
            "         MaxPool2d-8             [-1, 64, 7, 7]               0\n",
            "           Flatten-9                 [-1, 3136]               0\n",
            "           Linear-10                   [-1, 10]          31,370\n",
            "================================================================\n",
            "Total params: 36,122\n",
            "Trainable params: 36,122\n",
            "Non-trainable params: 0\n",
            "----------------------------------------------------------------\n",
            "Input size (MB): 0.00\n",
            "Forward/backward pass size (MB): 0.49\n",
            "Params size (MB): 0.14\n",
            "Estimated Total Size (MB): 0.63\n",
            "----------------------------------------------------------------\n"
          ]
        }
      ]
    },
    {
      "cell_type": "markdown",
      "source": [
        "# Dataset"
      ],
      "metadata": {
        "id": "0ud5Xe9oGfSp"
      }
    },
    {
      "cell_type": "code",
      "source": [
        "train_dataset=datasets.MNIST(\"./\",download=True,train=True,transform=transforms.ToTensor())\n",
        "valid_datasets=datasets.MNIST(\"./\",download=True,train=False,transform=transforms.ToTensor())"
      ],
      "metadata": {
        "id": "h3p9zhsyE8KA"
      },
      "execution_count": null,
      "outputs": []
    },
    {
      "cell_type": "code",
      "source": [
        "train_dl=DataLoader(train_dataset,batch_size=32,shuffle=True)\n",
        "val_dl=DataLoader(valid_datasets,batch_size=32,shuffle=False)"
      ],
      "metadata": {
        "id": "EIXBU6EdHIbq"
      },
      "execution_count": null,
      "outputs": []
    },
    {
      "cell_type": "code",
      "source": [
        "criterion=nn.CrossEntropyLoss()\n",
        "optimizer=torch.optim.Adam(teacher.parameters(),lr=1e-4)"
      ],
      "metadata": {
        "id": "4uKYiQe7HdY8"
      },
      "execution_count": null,
      "outputs": []
    },
    {
      "cell_type": "code",
      "source": [
        "def train_batch(batch):\n",
        "  data,label=batch\n",
        "  teacher.train()\n",
        "  optimizer.zero_grad()\n",
        "  pred=teacher(data.cuda())\n",
        "  loss=criterion(pred,label.cuda())\n",
        "  acc=(torch.max(pred,1)[1]==label.cuda()).float().mean()\n",
        "  loss.backward()\n",
        "  optimizer.step()\n",
        "  return loss.item(),acc.item()\n",
        "@torch.no_grad()\n",
        "def valid_batch(batch):\n",
        "  data,label=batch\n",
        "  teacher.eval()\n",
        "  pred=teacher(data.cuda())\n",
        "  loss=criterion(pred,label.cuda())\n",
        "  acc=(torch.max(pred,1)[1]==label.cuda()).float().mean()\n",
        "  return loss.item(),acc.item()"
      ],
      "metadata": {
        "id": "3Rjb6TrcH474"
      },
      "execution_count": null,
      "outputs": []
    },
    {
      "cell_type": "code",
      "source": [
        "n_epoch=10\n",
        "log=Report(n_epoch)\n",
        "for epochs in range(n_epoch):\n",
        "  N = len(train_dl)\n",
        "  for i,data in enumerate(train_dl):\n",
        "    loss,acc=train_batch(data)\n",
        "    log.record(epochs+(i+1)/N,trn_loss=loss,trn_acc=acc,end='\\r')\n",
        "  N = len(val_dl)\n",
        "  for i,batch in enumerate(val_dl):\n",
        "    loss,acc=valid_batch(batch)\n",
        "    log.record(epochs+(i+1)/N,val_loss=loss,val_acc=acc,end='\\r')\n",
        " \n",
        "\n",
        "  log.report_avgs(epochs+1)"
      ],
      "metadata": {
        "colab": {
          "base_uri": "https://localhost:8080/"
        },
        "id": "4cI0Y4ewIT_X",
        "outputId": "1ba18d2c-0624-40b0-e020-f7358a9e0960"
      },
      "execution_count": null,
      "outputs": [
        {
          "output_type": "stream",
          "name": "stdout",
          "text": [
            "EPOCH: 1.000\ttrn_loss: 0.157\ttrn_acc: 0.957\tval_loss: 0.065\tval_acc: 0.980\t(12.71s - 114.43s remaining)\n",
            "EPOCH: 2.000\ttrn_loss: 0.051\ttrn_acc: 0.985\tval_loss: 0.042\tval_acc: 0.987\t(25.34s - 101.35s remaining)\n",
            "EPOCH: 3.000\ttrn_loss: 0.037\ttrn_acc: 0.989\tval_loss: 0.043\tval_acc: 0.987\t(38.03s - 88.74s remaining)\n",
            "EPOCH: 4.000\ttrn_loss: 0.029\ttrn_acc: 0.992\tval_loss: 0.031\tval_acc: 0.988\t(50.62s - 75.93s remaining)\n",
            "EPOCH: 5.000\ttrn_loss: 0.023\ttrn_acc: 0.993\tval_loss: 0.035\tval_acc: 0.989\t(63.40s - 63.40s remaining)\n",
            "EPOCH: 6.000\ttrn_loss: 0.019\ttrn_acc: 0.994\tval_loss: 0.032\tval_acc: 0.989\t(76.04s - 50.70s remaining)\n",
            "EPOCH: 7.000\ttrn_loss: 0.015\ttrn_acc: 0.996\tval_loss: 0.034\tval_acc: 0.988\t(88.60s - 37.97s remaining)\n",
            "EPOCH: 8.000\ttrn_loss: 0.012\ttrn_acc: 0.996\tval_loss: 0.030\tval_acc: 0.991\t(101.30s - 25.32s remaining)\n",
            "EPOCH: 9.000\ttrn_loss: 0.009\ttrn_acc: 0.998\tval_loss: 0.040\tval_acc: 0.987\t(114.07s - 12.67s remaining)\n",
            "EPOCH: 10.000\ttrn_loss: 0.009\ttrn_acc: 0.998\tval_loss: 0.036\tval_acc: 0.988\t(126.84s - 0.00s remaining)\n"
          ]
        }
      ]
    },
    {
      "cell_type": "code",
      "source": [
        "student=student_network(1,10).to(device)\n",
        "student_loss=nn.CrossEntropyLoss()\n",
        "student_opt=torch.optim.Adam(student.parameters(),lr=1e-4)\n",
        "kd_loss=nn.KLDivLoss(reduction=\"batchmean\")"
      ],
      "metadata": {
        "id": "giUHAX4aJf_L"
      },
      "execution_count": null,
      "outputs": []
    },
    {
      "cell_type": "code",
      "source": [
        "def student_train(batch,temp=7,alpha=0.3):\n",
        "  data,label=batch\n",
        "  teacher.eval()\n",
        "  student.train()\n",
        "  student_opt.zero_grad()\n",
        "  teacher_pred=teacher(data.cuda())\n",
        "  student_pred=student(data.cuda())\n",
        "  student_loss=criterion(student_pred,label.cuda())\n",
        "  distil_loss=kd_loss(F.softmax(student_pred,dim=1)/temp,F.softmax(teacher_pred,dim=1)/temp)\n",
        "  loss=alpha*student_loss+(1-alpha)*distil_loss\n",
        "  acc=(torch.max(student_pred,1)[1]==label.cuda()).float().mean()\n",
        "  loss.backward()\n",
        "  student_opt.step()\n",
        "  \n",
        "  return loss.item(),acc.item()\n",
        "@torch.no_grad()\n",
        "def student_eval(batch,temp=7,alpha=0.3):\n",
        "  data,label=batch\n",
        "  teacher.eval()\n",
        "  student.eval()\n",
        "  student_opt.zero_grad()\n",
        "  teacher_pred=teacher(data.cuda())\n",
        "  student_pred=student(data.cuda())\n",
        "  student_loss=criterion(student_pred,label.cuda())\n",
        "  distil_loss=kd_loss(F.softmax(student_pred,dim=1)/temp,F.softmax(teacher_pred,dim=1)/temp)\n",
        "  loss=student_loss*alpha+(1-alpha)*distil_loss\n",
        "  acc=(torch.max(student_pred,1)[1]==label.cuda()).float().mean()\n",
        "  return loss.item(),acc.item()"
      ],
      "metadata": {
        "id": "5yYuhse7IWHQ"
      },
      "execution_count": null,
      "outputs": []
    },
    {
      "cell_type": "code",
      "source": [
        "n_epoch=10\n",
        "log=Report(n_epoch)\n",
        "for epochs in range(n_epoch):\n",
        "  N = len(train_dl)\n",
        "  for i,data in enumerate(train_dl):\n",
        "    loss,acc=student_train(data,temp=7,alpha=0.3)\n",
        "    log.record(epochs+(i+1)/N,trn_loss=loss,trn_acc=acc,end='\\r')\n",
        "  N = len(val_dl)\n",
        "  for i,batch in enumerate(val_dl):\n",
        "    loss,acc=student_eval(batch,temp=7,alpha=0.3)\n",
        "    log.record(epochs+(i+1)/N,val_loss=loss,val_acc=acc,end='\\r')\n",
        " \n",
        "\n",
        "  log.report_avgs(epochs+1)"
      ],
      "metadata": {
        "colab": {
          "base_uri": "https://localhost:8080/"
        },
        "id": "iEdgZCRyLoMY",
        "outputId": "43e9b24f-6837-4a30-d751-7c465fa0a100"
      },
      "execution_count": null,
      "outputs": [
        {
          "output_type": "stream",
          "name": "stdout",
          "text": [
            "EPOCH: 1.000\ttrn_loss: -0.123\ttrn_acc: 0.928\tval_loss: -0.181\tval_acc: 0.970\t(15.75s - 141.71s remaining)\n",
            "EPOCH: 2.000\ttrn_loss: -0.183\ttrn_acc: 0.975\tval_loss: -0.191\tval_acc: 0.980\t(31.27s - 125.08s remaining)\n",
            "EPOCH: 3.000\ttrn_loss: -0.191\ttrn_acc: 0.983\tval_loss: -0.196\tval_acc: 0.985\t(46.98s - 109.61s remaining)\n",
            "EPOCH: 4.000\ttrn_loss: -0.195\ttrn_acc: 0.986\tval_loss: -0.197\tval_acc: 0.986\t(62.67s - 94.00s remaining)\n",
            "EPOCH: 5.000\ttrn_loss: -0.197\ttrn_acc: 0.988\tval_loss: -0.200\tval_acc: 0.988\t(78.26s - 78.26s remaining)\n",
            "EPOCH: 6.000\ttrn_loss: -0.199\ttrn_acc: 0.990\tval_loss: -0.199\tval_acc: 0.987\t(94.06s - 62.71s remaining)\n",
            "EPOCH: 7.000\ttrn_loss: -0.201\ttrn_acc: 0.991\tval_loss: -0.201\tval_acc: 0.989\t(109.71s - 47.02s remaining)\n",
            "EPOCH: 8.000\ttrn_loss: -0.202\ttrn_acc: 0.992\tval_loss: -0.200\tval_acc: 0.988\t(125.25s - 31.31s remaining)\n",
            "EPOCH: 9.000\ttrn_loss: -0.203\ttrn_acc: 0.993\tval_loss: -0.200\tval_acc: 0.989\t(141.00s - 15.67s remaining)\n",
            "EPOCH: 10.000\ttrn_loss: -0.203\ttrn_acc: 0.994\tval_loss: -0.201\tval_acc: 0.989\t(156.65s - 0.00s remaining)\n"
          ]
        }
      ]
    },
    {
      "cell_type": "code",
      "source": [
        ""
      ],
      "metadata": {
        "id": "N_OFMwLzL0XG"
      },
      "execution_count": null,
      "outputs": []
    }
  ]
}