{
  "nbformat": 4,
  "nbformat_minor": 0,
  "metadata": {
    "colab": {
      "name": "visual_trasformer.ipynb",
      "provenance": [],
      "collapsed_sections": [],
      "toc_visible": true,
      "authorship_tag": "ABX9TyMm//0k0MkIbtV7SPXfRt9P",
      "include_colab_link": true
    },
    "kernelspec": {
      "name": "python3",
      "display_name": "Python 3"
    },
    "language_info": {
      "name": "python"
    },
    "accelerator": "GPU"
  },
  "cells": [
    {
      "cell_type": "markdown",
      "metadata": {
        "id": "view-in-github",
        "colab_type": "text"
      },
      "source": [
        "<a href=\"https://colab.research.google.com/github/alecbidaran/Pytorch_excersies/blob/main/visual_trasformer.ipynb\" target=\"_parent\"><img src=\"https://colab.research.google.com/assets/colab-badge.svg\" alt=\"Open In Colab\"/></a>"
      ]
    },
    {
      "cell_type": "code",
      "metadata": {
        "colab": {
          "base_uri": "https://localhost:8080/"
        },
        "id": "_quFQ86dd9dW",
        "outputId": "e59ed633-de7a-4001-9425-e02b1d51ebe5"
      },
      "source": [
        "!pip install torch-snippets"
      ],
      "execution_count": 1,
      "outputs": [
        {
          "output_type": "stream",
          "name": "stdout",
          "text": [
            "Collecting torch-snippets\n",
            "  Downloading torch_snippets-0.483-py3-none-any.whl (44 kB)\n",
            "\u001b[?25l\r\u001b[K     |███████▎                        | 10 kB 22.0 MB/s eta 0:00:01\r\u001b[K     |██████████████▋                 | 20 kB 20.1 MB/s eta 0:00:01\r\u001b[K     |██████████████████████          | 30 kB 10.8 MB/s eta 0:00:01\r\u001b[K     |█████████████████████████████▎  | 40 kB 8.6 MB/s eta 0:00:01\r\u001b[K     |████████████████████████████████| 44 kB 1.6 MB/s \n",
            "\u001b[?25hRequirement already satisfied: matplotlib in /usr/local/lib/python3.7/dist-packages (from torch-snippets) (3.2.2)\n",
            "Requirement already satisfied: numpy in /usr/local/lib/python3.7/dist-packages (from torch-snippets) (1.21.5)\n",
            "Collecting fastcore\n",
            "  Downloading fastcore-1.3.29-py3-none-any.whl (55 kB)\n",
            "\u001b[K     |████████████████████████████████| 55 kB 3.9 MB/s \n",
            "\u001b[?25hRequirement already satisfied: PyYAML in /usr/local/lib/python3.7/dist-packages (from torch-snippets) (3.13)\n",
            "Collecting jsonlines\n",
            "  Downloading jsonlines-3.0.0-py3-none-any.whl (8.5 kB)\n",
            "Collecting rich\n",
            "  Downloading rich-12.0.0-py3-none-any.whl (224 kB)\n",
            "\u001b[K     |████████████████████████████████| 224 kB 27.9 MB/s \n",
            "\u001b[?25hRequirement already satisfied: wasabi in /usr/local/lib/python3.7/dist-packages (from torch-snippets) (0.9.0)\n",
            "Requirement already satisfied: dill in /usr/local/lib/python3.7/dist-packages (from torch-snippets) (0.3.4)\n",
            "Requirement already satisfied: ipython in /usr/local/lib/python3.7/dist-packages (from torch-snippets) (5.5.0)\n",
            "Requirement already satisfied: pandas in /usr/local/lib/python3.7/dist-packages (from torch-snippets) (1.3.5)\n",
            "Collecting pydantic\n",
            "  Downloading pydantic-1.9.0-cp37-cp37m-manylinux_2_17_x86_64.manylinux2014_x86_64.whl (10.9 MB)\n",
            "\u001b[K     |████████████████████████████████| 10.9 MB 44.3 MB/s \n",
            "\u001b[?25hRequirement already satisfied: altair in /usr/local/lib/python3.7/dist-packages (from torch-snippets) (4.2.0)\n",
            "Requirement already satisfied: typing-extensions in /usr/local/lib/python3.7/dist-packages (from torch-snippets) (3.10.0.2)\n",
            "Requirement already satisfied: srsly in /usr/local/lib/python3.7/dist-packages (from torch-snippets) (1.0.5)\n",
            "Collecting loguru\n",
            "  Downloading loguru-0.6.0-py3-none-any.whl (58 kB)\n",
            "\u001b[K     |████████████████████████████████| 58 kB 2.0 MB/s \n",
            "\u001b[?25hRequirement already satisfied: imgaug in /usr/local/lib/python3.7/dist-packages (from torch-snippets) (0.2.9)\n",
            "Requirement already satisfied: tqdm in /usr/local/lib/python3.7/dist-packages (from torch-snippets) (4.63.0)\n",
            "Requirement already satisfied: Pillow in /usr/local/lib/python3.7/dist-packages (from torch-snippets) (7.1.2)\n",
            "Requirement already satisfied: catalogue in /usr/local/lib/python3.7/dist-packages (from torch-snippets) (1.0.0)\n",
            "Requirement already satisfied: jsonschema>=3.0 in /usr/local/lib/python3.7/dist-packages (from altair->torch-snippets) (4.3.3)\n",
            "Requirement already satisfied: jinja2 in /usr/local/lib/python3.7/dist-packages (from altair->torch-snippets) (2.11.3)\n",
            "Requirement already satisfied: toolz in /usr/local/lib/python3.7/dist-packages (from altair->torch-snippets) (0.11.2)\n",
            "Requirement already satisfied: entrypoints in /usr/local/lib/python3.7/dist-packages (from altair->torch-snippets) (0.4)\n",
            "Requirement already satisfied: importlib-metadata in /usr/local/lib/python3.7/dist-packages (from jsonschema>=3.0->altair->torch-snippets) (4.11.2)\n",
            "Requirement already satisfied: importlib-resources>=1.4.0 in /usr/local/lib/python3.7/dist-packages (from jsonschema>=3.0->altair->torch-snippets) (5.4.0)\n",
            "Requirement already satisfied: pyrsistent!=0.17.0,!=0.17.1,!=0.17.2,>=0.14.0 in /usr/local/lib/python3.7/dist-packages (from jsonschema>=3.0->altair->torch-snippets) (0.18.1)\n",
            "Requirement already satisfied: attrs>=17.4.0 in /usr/local/lib/python3.7/dist-packages (from jsonschema>=3.0->altair->torch-snippets) (21.4.0)\n",
            "Requirement already satisfied: zipp>=3.1.0 in /usr/local/lib/python3.7/dist-packages (from importlib-resources>=1.4.0->jsonschema>=3.0->altair->torch-snippets) (3.7.0)\n",
            "Requirement already satisfied: pytz>=2017.3 in /usr/local/lib/python3.7/dist-packages (from pandas->torch-snippets) (2018.9)\n",
            "Requirement already satisfied: python-dateutil>=2.7.3 in /usr/local/lib/python3.7/dist-packages (from pandas->torch-snippets) (2.8.2)\n",
            "Requirement already satisfied: six>=1.5 in /usr/local/lib/python3.7/dist-packages (from python-dateutil>=2.7.3->pandas->torch-snippets) (1.15.0)\n",
            "Requirement already satisfied: packaging in /usr/local/lib/python3.7/dist-packages (from fastcore->torch-snippets) (21.3)\n",
            "Requirement already satisfied: pip in /usr/local/lib/python3.7/dist-packages (from fastcore->torch-snippets) (21.1.3)\n",
            "Requirement already satisfied: opencv-python in /usr/local/lib/python3.7/dist-packages (from imgaug->torch-snippets) (4.1.2.30)\n",
            "Requirement already satisfied: Shapely in /usr/local/lib/python3.7/dist-packages (from imgaug->torch-snippets) (1.8.1.post1)\n",
            "Requirement already satisfied: scipy in /usr/local/lib/python3.7/dist-packages (from imgaug->torch-snippets) (1.4.1)\n",
            "Requirement already satisfied: imageio in /usr/local/lib/python3.7/dist-packages (from imgaug->torch-snippets) (2.4.1)\n",
            "Requirement already satisfied: scikit-image>=0.11.0 in /usr/local/lib/python3.7/dist-packages (from imgaug->torch-snippets) (0.18.3)\n",
            "Requirement already satisfied: tifffile>=2019.7.26 in /usr/local/lib/python3.7/dist-packages (from scikit-image>=0.11.0->imgaug->torch-snippets) (2021.11.2)\n",
            "Requirement already satisfied: networkx>=2.0 in /usr/local/lib/python3.7/dist-packages (from scikit-image>=0.11.0->imgaug->torch-snippets) (2.6.3)\n",
            "Requirement already satisfied: PyWavelets>=1.1.1 in /usr/local/lib/python3.7/dist-packages (from scikit-image>=0.11.0->imgaug->torch-snippets) (1.2.0)\n",
            "Requirement already satisfied: pyparsing!=2.0.4,!=2.1.2,!=2.1.6,>=2.0.1 in /usr/local/lib/python3.7/dist-packages (from matplotlib->torch-snippets) (3.0.7)\n",
            "Requirement already satisfied: cycler>=0.10 in /usr/local/lib/python3.7/dist-packages (from matplotlib->torch-snippets) (0.11.0)\n",
            "Requirement already satisfied: kiwisolver>=1.0.1 in /usr/local/lib/python3.7/dist-packages (from matplotlib->torch-snippets) (1.3.2)\n",
            "Requirement already satisfied: prompt-toolkit<2.0.0,>=1.0.4 in /usr/local/lib/python3.7/dist-packages (from ipython->torch-snippets) (1.0.18)\n",
            "Requirement already satisfied: pickleshare in /usr/local/lib/python3.7/dist-packages (from ipython->torch-snippets) (0.7.5)\n",
            "Requirement already satisfied: pygments in /usr/local/lib/python3.7/dist-packages (from ipython->torch-snippets) (2.6.1)\n",
            "Requirement already satisfied: pexpect in /usr/local/lib/python3.7/dist-packages (from ipython->torch-snippets) (4.8.0)\n",
            "Requirement already satisfied: setuptools>=18.5 in /usr/local/lib/python3.7/dist-packages (from ipython->torch-snippets) (57.4.0)\n",
            "Requirement already satisfied: decorator in /usr/local/lib/python3.7/dist-packages (from ipython->torch-snippets) (4.4.2)\n",
            "Requirement already satisfied: traitlets>=4.2 in /usr/local/lib/python3.7/dist-packages (from ipython->torch-snippets) (5.1.1)\n",
            "Requirement already satisfied: simplegeneric>0.8 in /usr/local/lib/python3.7/dist-packages (from ipython->torch-snippets) (0.8.1)\n",
            "Requirement already satisfied: wcwidth in /usr/local/lib/python3.7/dist-packages (from prompt-toolkit<2.0.0,>=1.0.4->ipython->torch-snippets) (0.2.5)\n",
            "Requirement already satisfied: MarkupSafe>=0.23 in /usr/local/lib/python3.7/dist-packages (from jinja2->altair->torch-snippets) (2.0.1)\n",
            "Requirement already satisfied: ptyprocess>=0.5 in /usr/local/lib/python3.7/dist-packages (from pexpect->ipython->torch-snippets) (0.7.0)\n",
            "Collecting commonmark<0.10.0,>=0.9.0\n",
            "  Downloading commonmark-0.9.1-py2.py3-none-any.whl (51 kB)\n",
            "\u001b[K     |████████████████████████████████| 51 kB 4.5 MB/s \n",
            "\u001b[?25hInstalling collected packages: commonmark, rich, pydantic, loguru, jsonlines, fastcore, torch-snippets\n",
            "Successfully installed commonmark-0.9.1 fastcore-1.3.29 jsonlines-3.0.0 loguru-0.6.0 pydantic-1.9.0 rich-12.0.0 torch-snippets-0.483\n"
          ]
        }
      ]
    },
    {
      "cell_type": "code",
      "metadata": {
        "id": "59AE6xS3eGxm"
      },
      "source": [
        "import torch \n",
        "from torchvision import transforms,datasets\n",
        "from torch_snippets import *\n",
        "import numpy as np \n",
        "device = 'cuda' if torch.cuda.is_available() else 'cpu'\n",
        "import torchvision.models as models\n",
        "from collections import OrderedDict"
      ],
      "execution_count": 1,
      "outputs": []
    },
    {
      "cell_type": "code",
      "metadata": {
        "id": "DrpJRFFyekHH"
      },
      "source": [
        "train_transform=transforms.Compose([transforms.Resize((32,32)),\n",
        "                                  transforms.RandomRotation(0.2),\n",
        "                                   transforms.ToTensor(),\n",
        "                                   transforms.Normalize((0.5,0.5,0.5),(0.5,0.5,0.5))])\n",
        "valid_transform=transforms.Compose([\n",
        "                                    transforms.Resize((32,32)),\n",
        "                                    transforms.ToTensor(),\n",
        "                                    transforms.Normalize((0.5,0.5,0.5),(0.5,0.5,0.5))\n",
        "])\n",
        "test_transform=transforms.Compose([transforms.Resize((32,32)),\n",
        "                                  transforms.RandomRotation(0.4),\n",
        "                                   transforms.ToTensor(),\n",
        "                                   transforms.Normalize((0.5,0.5,0.5),(0.5,0.5,0.5))])"
      ],
      "execution_count": 2,
      "outputs": []
    },
    {
      "cell_type": "code",
      "metadata": {
        "colab": {
          "base_uri": "https://localhost:8080/"
        },
        "id": "rz2eFkvufMLa",
        "outputId": "cdee9e6e-9d11-4fae-e99f-9c12788895e5"
      },
      "source": [
        "train_dataset=datasets.CIFAR100(root=\"./data\",download=True,train=True,transform=train_transform)\n",
        "valid_dataset=datasets.CIFAR100(root=\"./data\",download=True,train=False,transform=train_transform)"
      ],
      "execution_count": 3,
      "outputs": [
        {
          "output_type": "stream",
          "name": "stdout",
          "text": [
            "Files already downloaded and verified\n",
            "Files already downloaded and verified\n"
          ]
        }
      ]
    },
    {
      "cell_type": "code",
      "source": [
        "class transformer_block(torch.nn.Module):\n",
        "  def __init__(self,in_dim,num_head):\n",
        "    super(transformer_block,self).__init__()\n",
        "    self.mha=torch.nn.MultiheadAttention(in_dim,num_head)\n",
        "    self.lnorm=torch.nn.LayerNorm(in_dim)\n",
        "    self.flatten=torch.nn.Flatten()\n",
        "    self.gelu=torch.nn.GELU()\n",
        "    self.linear=torch.nn.Linear(4096,4096)\n",
        "    #self.lnorm1=torch.nn.LayerNorm(x.shape[1])\n",
        "  def forward(self,x):\n",
        "    norm=self.lnorm(x)\n",
        "    msa,_=self.mha(norm,norm,norm)\n",
        "    norm=self.lnorm(msa)\n",
        "    x=norm+x\n",
        "    x=self.flatten(x)\n",
        "    x1=torch.nn.LayerNorm(x.shape[-1]).to(device)(x)\n",
        "    l1=self.linear(x1)\n",
        "    l1=self.gelu(l1)\n",
        "    l1=self.linear(l1)\n",
        "    out=l1+x\n",
        "    return out.view(-1,4,1024)\n"
      ],
      "metadata": {
        "id": "Oh2YhOR9XxHW"
      },
      "execution_count": 50,
      "outputs": []
    },
    {
      "cell_type": "code",
      "source": [
        "tranformer=transformer_block(1024,16).to(device)"
      ],
      "metadata": {
        "id": "bYKrEgW4Yt5k"
      },
      "execution_count": 51,
      "outputs": []
    },
    {
      "cell_type": "code",
      "source": [
        "summary(tranformer,(4,1024))"
      ],
      "metadata": {
        "colab": {
          "base_uri": "https://localhost:8080/"
        },
        "id": "Wnc-6TRNY6xB",
        "outputId": "5e42a5c0-21bc-4480-aa7e-a3f6209f61d8"
      },
      "execution_count": 52,
      "outputs": [
        {
          "output_type": "stream",
          "name": "stdout",
          "text": [
            "----------------------------------------------------------------\n",
            "        Layer (type)               Output Shape         Param #\n",
            "================================================================\n",
            "         LayerNorm-1              [-1, 4, 1024]           2,048\n",
            "MultiheadAttention-2  [[-1, 4, 1024], [-1, 2, 2]]               0\n",
            "         LayerNorm-3              [-1, 4, 1024]           2,048\n",
            "           Flatten-4                 [-1, 4096]               0\n",
            "            Linear-5                 [-1, 4096]      16,781,312\n",
            "              GELU-6                 [-1, 4096]               0\n",
            "            Linear-7                 [-1, 4096]      16,781,312\n",
            "================================================================\n",
            "Total params: 33,566,720\n",
            "Trainable params: 33,566,720\n",
            "Non-trainable params: 0\n",
            "----------------------------------------------------------------\n",
            "Input size (MB): 0.02\n",
            "Forward/backward pass size (MB): 0.06\n",
            "Params size (MB): 128.05\n",
            "Estimated Total Size (MB): 128.12\n",
            "----------------------------------------------------------------\n"
          ]
        }
      ]
    },
    {
      "cell_type": "code",
      "metadata": {
        "id": "w0ZBwC8xXLTi"
      },
      "source": [
        "class VIT(torch.nn.Module):\n",
        "  def __init__(self,num_classes=100):\n",
        "    super(VIT,self).__init__()\n",
        "    #self.patch=torch.nn.Conv2d(512,256,1)\n",
        "    self.flatten=torch.nn.Flatten()\n",
        "    self.patches=torch.nn.Unfold(kernel_size=16,stride=16,padding=1)\n",
        "    #self.lnorm=torch.nn.LayerNorm(768)\n",
        "    self.transformer=torch.nn.Sequential(*[transformer_block(1024,16) for _ in range(12)])\n",
        "    #self.transformer_encoder=torch.nn.Sequential(*[torch.nn.TransformerEncoderLayer(768,12,dim_feedforward=3072,dropout=0.1,batch_first=False) for _ in range(12)])\n",
        "    self.projection=torch.nn.Linear(768,1024)\n",
        "    self.mlp=torch.nn.Sequential(\n",
        "                                 torch.nn.Linear(4096,100))\n",
        "  def forward(self,x):\n",
        "    #x=self.backbone(x)\n",
        "    x=self.patches(x).transpose(-2,-1)\n",
        "    #x=self.flatten(x)\n",
        "    x=self.projection(x)\n",
        "    embedding=torch.nn.Embedding(16,1024,device=device)\n",
        "    pos=torch.arange(0,(32//16)**2).to(device).long()\n",
        "    pos_enc=embedding(pos.unsqueeze(0))\n",
        "    for i in range(1024,2):\n",
        "      wk=0.0001**(2*i*1024/16)\n",
        "      x[i]+=torch.sin(pos_enc.squeeze(0)*wk)\n",
        "      x[i+1]+=torch.cos(pos_enc.squeeze(0)*wk)\n",
        "    #x1=self.lnorm(x)\n",
        "    x1=self.transformer(x)\n",
        "    x1=self.flatten(x1)\n",
        "    x2=self.mlp(x1)\n",
        "    return x2"
      ],
      "execution_count": 53,
      "outputs": []
    },
    {
      "cell_type": "code",
      "source": [
        "model=VIT(num_classes=100).to(device)\n"
      ],
      "metadata": {
        "id": "GHB4lgBuVvuU"
      },
      "execution_count": 54,
      "outputs": []
    },
    {
      "cell_type": "code",
      "source": [
        "from torchsummary import summary"
      ],
      "metadata": {
        "id": "ADmP5mjiVyqY"
      },
      "execution_count": 55,
      "outputs": []
    },
    {
      "cell_type": "code",
      "source": [
        "summary(model,(3,32,32))"
      ],
      "metadata": {
        "colab": {
          "base_uri": "https://localhost:8080/"
        },
        "id": "9mOR-AeeV-Zm",
        "outputId": "b56bd3db-7ec3-4178-d4a0-57fae81d1a77"
      },
      "execution_count": 56,
      "outputs": [
        {
          "output_type": "stream",
          "name": "stdout",
          "text": [
            "----------------------------------------------------------------\n",
            "        Layer (type)               Output Shape         Param #\n",
            "================================================================\n",
            "            Unfold-1               [-1, 768, 4]               0\n",
            "            Linear-2              [-1, 4, 1024]         787,456\n",
            "         LayerNorm-3              [-1, 4, 1024]           2,048\n",
            "MultiheadAttention-4  [[-1, 4, 1024], [-1, 2, 2]]               0\n",
            "         LayerNorm-5              [-1, 4, 1024]           2,048\n",
            "           Flatten-6                 [-1, 4096]               0\n",
            "            Linear-7                 [-1, 4096]      16,781,312\n",
            "              GELU-8                 [-1, 4096]               0\n",
            "            Linear-9                 [-1, 4096]      16,781,312\n",
            "transformer_block-10              [-1, 4, 1024]               0\n",
            "        LayerNorm-11              [-1, 4, 1024]           2,048\n",
            "MultiheadAttention-12  [[-1, 4, 1024], [-1, 2, 2]]               0\n",
            "        LayerNorm-13              [-1, 4, 1024]           2,048\n",
            "          Flatten-14                 [-1, 4096]               0\n",
            "           Linear-15                 [-1, 4096]      16,781,312\n",
            "             GELU-16                 [-1, 4096]               0\n",
            "           Linear-17                 [-1, 4096]      16,781,312\n",
            "transformer_block-18              [-1, 4, 1024]               0\n",
            "        LayerNorm-19              [-1, 4, 1024]           2,048\n",
            "MultiheadAttention-20  [[-1, 4, 1024], [-1, 2, 2]]               0\n",
            "        LayerNorm-21              [-1, 4, 1024]           2,048\n",
            "          Flatten-22                 [-1, 4096]               0\n",
            "           Linear-23                 [-1, 4096]      16,781,312\n",
            "             GELU-24                 [-1, 4096]               0\n",
            "           Linear-25                 [-1, 4096]      16,781,312\n",
            "transformer_block-26              [-1, 4, 1024]               0\n",
            "        LayerNorm-27              [-1, 4, 1024]           2,048\n",
            "MultiheadAttention-28  [[-1, 4, 1024], [-1, 2, 2]]               0\n",
            "        LayerNorm-29              [-1, 4, 1024]           2,048\n",
            "          Flatten-30                 [-1, 4096]               0\n",
            "           Linear-31                 [-1, 4096]      16,781,312\n",
            "             GELU-32                 [-1, 4096]               0\n",
            "           Linear-33                 [-1, 4096]      16,781,312\n",
            "transformer_block-34              [-1, 4, 1024]               0\n",
            "        LayerNorm-35              [-1, 4, 1024]           2,048\n",
            "MultiheadAttention-36  [[-1, 4, 1024], [-1, 2, 2]]               0\n",
            "        LayerNorm-37              [-1, 4, 1024]           2,048\n",
            "          Flatten-38                 [-1, 4096]               0\n",
            "           Linear-39                 [-1, 4096]      16,781,312\n",
            "             GELU-40                 [-1, 4096]               0\n",
            "           Linear-41                 [-1, 4096]      16,781,312\n",
            "transformer_block-42              [-1, 4, 1024]               0\n",
            "        LayerNorm-43              [-1, 4, 1024]           2,048\n",
            "MultiheadAttention-44  [[-1, 4, 1024], [-1, 2, 2]]               0\n",
            "        LayerNorm-45              [-1, 4, 1024]           2,048\n",
            "          Flatten-46                 [-1, 4096]               0\n",
            "           Linear-47                 [-1, 4096]      16,781,312\n",
            "             GELU-48                 [-1, 4096]               0\n",
            "           Linear-49                 [-1, 4096]      16,781,312\n",
            "transformer_block-50              [-1, 4, 1024]               0\n",
            "        LayerNorm-51              [-1, 4, 1024]           2,048\n",
            "MultiheadAttention-52  [[-1, 4, 1024], [-1, 2, 2]]               0\n",
            "        LayerNorm-53              [-1, 4, 1024]           2,048\n",
            "          Flatten-54                 [-1, 4096]               0\n",
            "           Linear-55                 [-1, 4096]      16,781,312\n",
            "             GELU-56                 [-1, 4096]               0\n",
            "           Linear-57                 [-1, 4096]      16,781,312\n",
            "transformer_block-58              [-1, 4, 1024]               0\n",
            "        LayerNorm-59              [-1, 4, 1024]           2,048\n",
            "MultiheadAttention-60  [[-1, 4, 1024], [-1, 2, 2]]               0\n",
            "        LayerNorm-61              [-1, 4, 1024]           2,048\n",
            "          Flatten-62                 [-1, 4096]               0\n",
            "           Linear-63                 [-1, 4096]      16,781,312\n",
            "             GELU-64                 [-1, 4096]               0\n",
            "           Linear-65                 [-1, 4096]      16,781,312\n",
            "transformer_block-66              [-1, 4, 1024]               0\n",
            "        LayerNorm-67              [-1, 4, 1024]           2,048\n",
            "MultiheadAttention-68  [[-1, 4, 1024], [-1, 2, 2]]               0\n",
            "        LayerNorm-69              [-1, 4, 1024]           2,048\n",
            "          Flatten-70                 [-1, 4096]               0\n",
            "           Linear-71                 [-1, 4096]      16,781,312\n",
            "             GELU-72                 [-1, 4096]               0\n",
            "           Linear-73                 [-1, 4096]      16,781,312\n",
            "transformer_block-74              [-1, 4, 1024]               0\n",
            "        LayerNorm-75              [-1, 4, 1024]           2,048\n",
            "MultiheadAttention-76  [[-1, 4, 1024], [-1, 2, 2]]               0\n",
            "        LayerNorm-77              [-1, 4, 1024]           2,048\n",
            "          Flatten-78                 [-1, 4096]               0\n",
            "           Linear-79                 [-1, 4096]      16,781,312\n",
            "             GELU-80                 [-1, 4096]               0\n",
            "           Linear-81                 [-1, 4096]      16,781,312\n",
            "transformer_block-82              [-1, 4, 1024]               0\n",
            "        LayerNorm-83              [-1, 4, 1024]           2,048\n",
            "MultiheadAttention-84  [[-1, 4, 1024], [-1, 2, 2]]               0\n",
            "        LayerNorm-85              [-1, 4, 1024]           2,048\n",
            "          Flatten-86                 [-1, 4096]               0\n",
            "           Linear-87                 [-1, 4096]      16,781,312\n",
            "             GELU-88                 [-1, 4096]               0\n",
            "           Linear-89                 [-1, 4096]      16,781,312\n",
            "transformer_block-90              [-1, 4, 1024]               0\n",
            "        LayerNorm-91              [-1, 4, 1024]           2,048\n",
            "MultiheadAttention-92  [[-1, 4, 1024], [-1, 2, 2]]               0\n",
            "        LayerNorm-93              [-1, 4, 1024]           2,048\n",
            "          Flatten-94                 [-1, 4096]               0\n",
            "           Linear-95                 [-1, 4096]      16,781,312\n",
            "             GELU-96                 [-1, 4096]               0\n",
            "           Linear-97                 [-1, 4096]      16,781,312\n",
            "transformer_block-98              [-1, 4, 1024]               0\n",
            "          Flatten-99                 [-1, 4096]               0\n",
            "          Linear-100                  [-1, 100]         409,700\n",
            "================================================================\n",
            "Total params: 403,997,796\n",
            "Trainable params: 403,997,796\n",
            "Non-trainable params: 0\n",
            "----------------------------------------------------------------\n",
            "Input size (MB): 0.01\n",
            "Forward/backward pass size (MB): 1.21\n",
            "Params size (MB): 1541.13\n",
            "Estimated Total Size (MB): 1542.35\n",
            "----------------------------------------------------------------\n"
          ]
        }
      ]
    },
    {
      "cell_type": "code",
      "source": [
        "\n",
        "def train_batch(batch,model,loss_fn,optimizer):\n",
        "  image,label=batch\n",
        "  image,label=image.to(device),label.to(device)\n",
        "  optimizer.zero_grad()\n",
        "  logit=model(image)\n",
        "  loss=loss_fn(logit,label)\n",
        "  loss.backward()\n",
        "  optimizer.step()\n",
        "  acc=(torch.max(logit,1)[1]==label).float().mean()\n",
        "  return loss.item(),acc.item()\n",
        "@torch.no_grad()\n",
        "def valid_batch(batch,model,loss_fn):\n",
        "  model.eval()\n",
        "  image,label=batch\n",
        "  image,label=image.to(device),label.to(device)\n",
        "  logit=model(image)\n",
        "  loss=loss_fn(logit,label)\n",
        "  acc=(torch.max(logit,1)[1]==label).float().mean()\n",
        "  return loss.item(),acc.item()"
      ],
      "metadata": {
        "id": "Lmom0kdIWPkb"
      },
      "execution_count": 57,
      "outputs": []
    },
    {
      "cell_type": "code",
      "source": [
        "trn_dl=torch.utils.data.DataLoader(train_dataset,batch_size=256,shuffle=True)\n",
        "val_dl=torch.utils.data.DataLoader(valid_dataset,batch_size=256,shuffle=False)"
      ],
      "metadata": {
        "id": "FHdlhyupa2lU"
      },
      "execution_count": 58,
      "outputs": []
    },
    {
      "cell_type": "code",
      "source": [
        "loss_fn=torch.nn.CrossEntropyLoss()\n",
        "optimizer=torch.optim.Adam(model.parameters(),lr=0.001)"
      ],
      "metadata": {
        "id": "x_Q82BTlbZZd"
      },
      "execution_count": 59,
      "outputs": []
    },
    {
      "cell_type": "code",
      "source": [
        "n_epoch=30\n",
        "log=Report(n_epoch)\n",
        "for epochs in range(n_epoch):\n",
        "  N = len(trn_dl)\n",
        "  for i,data in enumerate(trn_dl):\n",
        "    loss,acc=train_batch(data,model,loss_fn,optimizer)\n",
        "    log.record(epochs+(i+1)/N,trn_loss=loss,trn_acc=acc,end='\\r')\n",
        "  N = len(val_dl)\n",
        "  for b,data in enumerate(val_dl):\n",
        "    loss,acc=valid_batch(data,model,loss_fn)\n",
        "    log.record(epochs+(b+1)/N,val_loss=loss,val_acc=acc,end='\\r')\n",
        "  if epochs>=10:\n",
        "    optimizer=torch.optim.Adam(model.parameters(),lr=0.001) \n",
        "  log.report_avgs(epochs+1)"
      ],
      "metadata": {
        "colab": {
          "base_uri": "https://localhost:8080/",
          "height": 606
        },
        "id": "7egDIUMkbiQP",
        "outputId": "dd8ab900-fe7d-4f4c-93f9-38bba6ecc362"
      },
      "execution_count": 60,
      "outputs": [
        {
          "output_type": "stream",
          "name": "stdout",
          "text": [
            "EPOCH: 1.000\ttrn_loss: 15.122\ttrn_acc: 0.056\tval_loss: 4.167\tval_acc: 0.101\t(197.13s - 5716.84s remaining)\n",
            "EPOCH: 2.000\ttrn_loss: 3.840\ttrn_acc: 0.139\tval_loss: 3.831\tval_acc: 0.142\t(394.18s - 5518.53s remaining)\n",
            "EPOCH: 3.000\ttrn_loss: 3.538\ttrn_acc: 0.181\tval_loss: 3.664\tval_acc: 0.173\t(591.69s - 5325.20s remaining)\n",
            "EPOCH: 4.000\ttrn_loss: 3.334\ttrn_acc: 0.214\tval_loss: 3.509\tval_acc: 0.196\t(788.66s - 5126.26s remaining)\n",
            "EPOCH: 5.000\ttrn_loss: 3.132\ttrn_acc: 0.248\tval_loss: 3.532\tval_acc: 0.205\t(985.69s - 4928.45s remaining)\n",
            "EPOCH: 6.000\ttrn_loss: 2.970\ttrn_acc: 0.278\tval_loss: 3.525\tval_acc: 0.219\t(1182.70s - 4730.79s remaining)\n",
            "EPOCH: 7.000\ttrn_loss: 2.760\ttrn_acc: 0.313\tval_loss: 3.470\tval_acc: 0.230\t(1379.33s - 4532.07s remaining)\n",
            "EPOCH: 8.000\ttrn_loss: 2.648\ttrn_acc: 0.340\tval_loss: 3.651\tval_acc: 0.219\t(1575.94s - 4333.83s remaining)\n",
            "EPOCH: 9.000\ttrn_loss: 2.463\ttrn_acc: 0.380\tval_loss: 3.795\tval_acc: 0.231\t(1772.83s - 4136.61s remaining)\n",
            "EPOCH: 10.000\ttrn_loss: 2.275\ttrn_acc: 0.418\tval_loss: 4.020\tval_acc: 0.230\t(1969.46s - 3938.93s remaining)\n",
            "EPOCH: 11.000\ttrn_loss: 2.076\ttrn_acc: 0.461\tval_loss: 4.246\tval_acc: 0.227\t(2166.03s - 3741.33s remaining)\n",
            "EPOCH: 12.000\ttrn_loss: 3.029\ttrn_acc: 0.346\tval_loss: 4.875\tval_acc: 0.200\t(2361.87s - 3542.80s remaining)\n",
            "EPOCH: 12.061\ttrn_loss: 3.152\ttrn_acc: 0.352\t(2373.01s - 3529.41s remaining)"
          ]
        },
        {
          "output_type": "error",
          "ename": "KeyboardInterrupt",
          "evalue": "ignored",
          "traceback": [
            "\u001b[0;31m---------------------------------------------------------------------------\u001b[0m",
            "\u001b[0;31mKeyboardInterrupt\u001b[0m                         Traceback (most recent call last)",
            "\u001b[0;32m<ipython-input-60-2afa02e85013>\u001b[0m in \u001b[0;36m<module>\u001b[0;34m()\u001b[0m\n\u001b[1;32m      4\u001b[0m   \u001b[0mN\u001b[0m \u001b[0;34m=\u001b[0m \u001b[0mlen\u001b[0m\u001b[0;34m(\u001b[0m\u001b[0mtrn_dl\u001b[0m\u001b[0;34m)\u001b[0m\u001b[0;34m\u001b[0m\u001b[0;34m\u001b[0m\u001b[0m\n\u001b[1;32m      5\u001b[0m   \u001b[0;32mfor\u001b[0m \u001b[0mi\u001b[0m\u001b[0;34m,\u001b[0m\u001b[0mdata\u001b[0m \u001b[0;32min\u001b[0m \u001b[0menumerate\u001b[0m\u001b[0;34m(\u001b[0m\u001b[0mtrn_dl\u001b[0m\u001b[0;34m)\u001b[0m\u001b[0;34m:\u001b[0m\u001b[0;34m\u001b[0m\u001b[0;34m\u001b[0m\u001b[0m\n\u001b[0;32m----> 6\u001b[0;31m     \u001b[0mloss\u001b[0m\u001b[0;34m,\u001b[0m\u001b[0macc\u001b[0m\u001b[0;34m=\u001b[0m\u001b[0mtrain_batch\u001b[0m\u001b[0;34m(\u001b[0m\u001b[0mdata\u001b[0m\u001b[0;34m,\u001b[0m\u001b[0mmodel\u001b[0m\u001b[0;34m,\u001b[0m\u001b[0mloss_fn\u001b[0m\u001b[0;34m,\u001b[0m\u001b[0moptimizer\u001b[0m\u001b[0;34m)\u001b[0m\u001b[0;34m\u001b[0m\u001b[0;34m\u001b[0m\u001b[0m\n\u001b[0m\u001b[1;32m      7\u001b[0m     \u001b[0mlog\u001b[0m\u001b[0;34m.\u001b[0m\u001b[0mrecord\u001b[0m\u001b[0;34m(\u001b[0m\u001b[0mepochs\u001b[0m\u001b[0;34m+\u001b[0m\u001b[0;34m(\u001b[0m\u001b[0mi\u001b[0m\u001b[0;34m+\u001b[0m\u001b[0;36m1\u001b[0m\u001b[0;34m)\u001b[0m\u001b[0;34m/\u001b[0m\u001b[0mN\u001b[0m\u001b[0;34m,\u001b[0m\u001b[0mtrn_loss\u001b[0m\u001b[0;34m=\u001b[0m\u001b[0mloss\u001b[0m\u001b[0;34m,\u001b[0m\u001b[0mtrn_acc\u001b[0m\u001b[0;34m=\u001b[0m\u001b[0macc\u001b[0m\u001b[0;34m,\u001b[0m\u001b[0mend\u001b[0m\u001b[0;34m=\u001b[0m\u001b[0;34m'\\r'\u001b[0m\u001b[0;34m)\u001b[0m\u001b[0;34m\u001b[0m\u001b[0;34m\u001b[0m\u001b[0m\n\u001b[1;32m      8\u001b[0m   \u001b[0mN\u001b[0m \u001b[0;34m=\u001b[0m \u001b[0mlen\u001b[0m\u001b[0;34m(\u001b[0m\u001b[0mval_dl\u001b[0m\u001b[0;34m)\u001b[0m\u001b[0;34m\u001b[0m\u001b[0;34m\u001b[0m\u001b[0m\n",
            "\u001b[0;32m<ipython-input-57-51ce78d0f699>\u001b[0m in \u001b[0;36mtrain_batch\u001b[0;34m(batch, model, loss_fn, optimizer)\u001b[0m\n\u001b[1;32m      9\u001b[0m   \u001b[0moptimizer\u001b[0m\u001b[0;34m.\u001b[0m\u001b[0mstep\u001b[0m\u001b[0;34m(\u001b[0m\u001b[0;34m)\u001b[0m\u001b[0;34m\u001b[0m\u001b[0;34m\u001b[0m\u001b[0m\n\u001b[1;32m     10\u001b[0m   \u001b[0macc\u001b[0m\u001b[0;34m=\u001b[0m\u001b[0;34m(\u001b[0m\u001b[0mtorch\u001b[0m\u001b[0;34m.\u001b[0m\u001b[0mmax\u001b[0m\u001b[0;34m(\u001b[0m\u001b[0mlogit\u001b[0m\u001b[0;34m,\u001b[0m\u001b[0;36m1\u001b[0m\u001b[0;34m)\u001b[0m\u001b[0;34m[\u001b[0m\u001b[0;36m1\u001b[0m\u001b[0;34m]\u001b[0m\u001b[0;34m==\u001b[0m\u001b[0mlabel\u001b[0m\u001b[0;34m)\u001b[0m\u001b[0;34m.\u001b[0m\u001b[0mfloat\u001b[0m\u001b[0;34m(\u001b[0m\u001b[0;34m)\u001b[0m\u001b[0;34m.\u001b[0m\u001b[0mmean\u001b[0m\u001b[0;34m(\u001b[0m\u001b[0;34m)\u001b[0m\u001b[0;34m\u001b[0m\u001b[0;34m\u001b[0m\u001b[0m\n\u001b[0;32m---> 11\u001b[0;31m   \u001b[0;32mreturn\u001b[0m \u001b[0mloss\u001b[0m\u001b[0;34m.\u001b[0m\u001b[0mitem\u001b[0m\u001b[0;34m(\u001b[0m\u001b[0;34m)\u001b[0m\u001b[0;34m,\u001b[0m\u001b[0macc\u001b[0m\u001b[0;34m.\u001b[0m\u001b[0mitem\u001b[0m\u001b[0;34m(\u001b[0m\u001b[0;34m)\u001b[0m\u001b[0;34m\u001b[0m\u001b[0;34m\u001b[0m\u001b[0m\n\u001b[0m\u001b[1;32m     12\u001b[0m \u001b[0;34m@\u001b[0m\u001b[0mtorch\u001b[0m\u001b[0;34m.\u001b[0m\u001b[0mno_grad\u001b[0m\u001b[0;34m(\u001b[0m\u001b[0;34m)\u001b[0m\u001b[0;34m\u001b[0m\u001b[0;34m\u001b[0m\u001b[0m\n\u001b[1;32m     13\u001b[0m \u001b[0;32mdef\u001b[0m \u001b[0mvalid_batch\u001b[0m\u001b[0;34m(\u001b[0m\u001b[0mbatch\u001b[0m\u001b[0;34m,\u001b[0m\u001b[0mmodel\u001b[0m\u001b[0;34m,\u001b[0m\u001b[0mloss_fn\u001b[0m\u001b[0;34m)\u001b[0m\u001b[0;34m:\u001b[0m\u001b[0;34m\u001b[0m\u001b[0;34m\u001b[0m\u001b[0m\n",
            "\u001b[0;31mKeyboardInterrupt\u001b[0m: "
          ]
        }
      ]
    },
    {
      "cell_type": "code",
      "source": [
        "log.plot_epochs(log=True)"
      ],
      "metadata": {
        "colab": {
          "base_uri": "https://localhost:8080/",
          "height": 406
        },
        "id": "rHbLYUN9bkvV",
        "outputId": "40e71a91-3568-4442-9f4e-98521add4427"
      },
      "execution_count": 61,
      "outputs": [
        {
          "output_type": "stream",
          "name": "stderr",
          "text": [
            "100%|██████████| 131/131 [00:00<00:00, 507.52it/s]\n"
          ]
        },
        {
          "output_type": "display_data",
          "data": {
            "text/plain": [
              "<Figure size 576x432 with 1 Axes>"
            ],
            "image/png": "[encoded data removed]"
          },
          "metadata": {
            "needs_background": "light"
          }
        }
      ]
    }
  ]
}